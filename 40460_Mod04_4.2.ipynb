{
  "cells": [
    {
      "metadata": {},
      "cell_type": "markdown",
      "source": "# Section 4.2\n## Nested Conditionals\n- Nested conditionals  \n- **Print formatting with the (\\) escape sequence** \n\n-----\n\n### Student will be able to\n- Create nested conditional logic in code  \n- **Print format print using escape sequence (\\)**"
    },
    {
      "metadata": {
        "collapsed": true
      },
      "cell_type": "markdown",
      "source": "## Concept: Formatting with Escape Sequences\n[![view video](https://iajupyterprodblobs.blob.core.windows.net/imagecontainer/common/play_video.png)]( http://edxinteractivepage.blob.core.windows.net/edxpages/f7cff1a7-5601-48a1-95a6-fd1fdfabd20e.html?details=[{\"src\":\"http://jupyternootbookwams.streaming.mediaservices.windows.net/b64e53fd-eb3b-4383-8b5f-4da51fc881c5/Unit1_Section6.2-Escape-Sequences.ism/manifest\",\"type\":\"application/vnd.ms-sstr+xml\"}],[{\"src\":\"http://jupyternootbookwams.streaming.mediaservices.windows.net/b64e53fd-eb3b-4383-8b5f-4da51fc881c5/Unit1_Section6.2-Escape-Sequences.vtt\",\"srclang\":\"en\",\"kind\":\"subtitles\",\"label\":\"english\"}])\n### Escape Sequences\n- Escape sequences all start with a backslash (**`\\`**) \n- Escape sequences can be used to display characters in Python reserved for formatting\n  - **`\\\\`** &nbsp; Backslash (**`\\`**)  \n  - **`\\'`** &nbsp; Single quote (**'**)  \n  - **`\\\"`** &nbsp; Double quote (**\"**)  \n\n\n- Escape sequences are part of special formatting charcters\\n    Linefeed \n  - **`\\t`** &nbsp; Tab\n  - **`\\n`** &nbsp; return or newline\n\nWe use escape sequences in strings - usually with `print()` statements. "
    },
    {
      "metadata": {},
      "cell_type": "markdown",
      "source": "### Examples"
    },
    {
      "metadata": {
        "trusted": false
      },
      "cell_type": "code",
      "source": "# review and run example using \\n (new line)\nprint('Hello World!\\nI am formatting print ')",
      "execution_count": null,
      "outputs": []
    },
    {
      "metadata": {
        "trusted": false
      },
      "cell_type": "code",
      "source": "# review and run code using \\t (tab)\nstudent_age = 17\nstudent_name = \"Hiroto Yamaguchi\"\nprint(\"STUDENT NAME\\t\\tAGE\")\nprint(student_name,'\\t' + str(student_age))",
      "execution_count": null,
      "outputs": []
    },
    {
      "metadata": {
        "trusted": false
      },
      "cell_type": "code",
      "source": "# review and run code \n# using \\\" and \\' (escaped quotes)\nprint(\"\\\"quotes in quotes\\\"\")\nprint(\"I\\'ve said \\\"save your notebook,\\\" so let\\'s do it!\")\n\n# using  \\\\ (escaped backslash)\nprint(\"for a newline use \\\\n\")",
      "execution_count": null,
      "outputs": []
    },
    {
      "metadata": {},
      "cell_type": "markdown",
      "source": "## Task 1: Format using backslash (**`\\`**) escape sequences"
    },
    {
      "metadata": {
        "trusted": false
      },
      "cell_type": "code",
      "source": "# [ ] print \"\\\\\\WARNING!///\"\n\n",
      "execution_count": null,
      "outputs": []
    },
    {
      "metadata": {
        "trusted": false
      },
      "cell_type": "code",
      "source": "# [ ] print output that is exactly (with quotes): \"What's that?\" isn't a specific question.\n\n",
      "execution_count": null,
      "outputs": []
    },
    {
      "metadata": {
        "trusted": false
      },
      "cell_type": "code",
      "source": "# [ ] from 1 print statement output the text commented below using no spaces\n# One     Two     Three\n# Four    Five    Six\n\n",
      "execution_count": null,
      "outputs": []
    },
    {
      "metadata": {},
      "cell_type": "markdown",
      "source": "## Task 2: Program: `pre_word()` function\nFunction has a single string parameter that it checks is a single word starting with \"pre\".\n- Check if word starts with \"pre\"\n- Check if word .isalpha() \n- If all checks pass: return **`True`**\n- If any checks fail: return **`False`**\n- **Test** \n  - Get input using the directions: *enter a word that starts with \"pre\": *\n  - Call pre_word() with the input string\n  - Test **if** return value is **`False`** and print message explaining not a \"pre\" word \n  - **else** print message explaining is a valid \"pre\" word"
    },
    {
      "metadata": {
        "trusted": false
      },
      "cell_type": "code",
      "source": "# [ ] create and test pre_word()\n\n\n",
      "execution_count": null,
      "outputs": []
    },
    {
      "metadata": {},
      "cell_type": "markdown",
      "source": "## Task 3: Fix the errors"
    },
    {
      "metadata": {
        "trusted": false
      },
      "cell_type": "code",
      "source": "# [ ] review, run, fix\nprint(\"Hello\" + \\n + \"World!\")\n\n",
      "execution_count": null,
      "outputs": []
    },
    {
      "metadata": {},
      "cell_type": "markdown",
      "source": "[Terms of use](http://go.microsoft.com/fwlink/?LinkID=206977) &nbsp; [Privacy & cookies](https://go.microsoft.com/fwlink/?LinkId=521839) &nbsp; © 2017 Microsoft"
    }
  ],
  "metadata": {
    "anaconda-cloud": {},
    "kernelspec": {
      "name": "python3",
      "display_name": "Python 3",
      "language": "python"
    },
    "language_info": {
      "mimetype": "text/x-python",
      "nbconvert_exporter": "python",
      "name": "python",
      "file_extension": ".py",
      "version": "3.5.4",
      "pygments_lexer": "ipython3",
      "codemirror_mode": {
        "version": 3,
        "name": "ipython"
      }
    }
  },
  "nbformat": 4,
  "nbformat_minor": 1
}