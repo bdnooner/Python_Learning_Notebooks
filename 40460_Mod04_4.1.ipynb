{
  "cells": [
    {
      "metadata": {},
      "cell_type": "markdown",
      "source": "# Section 4.1\n## Nested Conditionals\n- Nested Conditionals  \n- Escape Sequence print formatting \"\\\\\"\n\n-----\n\n### Student will be able to\n- Create nested conditional logic in code  \n- Format print output using escape \"\\\\\" sequence "
    },
    {
      "metadata": {},
      "cell_type": "markdown",
      "source": "## Concept: Nested Conditionals\n[![view video](https://iajupyterprodblobs.blob.core.windows.net/imagecontainer/common/play_video.png)]( http://edxinteractivepage.blob.core.windows.net/edxpages/f7cff1a7-5601-48a1-95a6-fd1fdfabd20e.html?details=[{\"src\":\"http://jupyternootbookwams.streaming.mediaservices.windows.net/16ef1670-d6ca-4104-a923-9bdfd9c3a217/Unit1_Section6.1-nested-conditionals.ism/manifest\",\"type\":\"application/vnd.ms-sstr+xml\"}],[{\"src\":\"http://jupyternootbookwams.streaming.mediaservices.windows.net/16ef1670-d6ca-4104-a923-9bdfd9c3a217/Unit1_Section6.1-nested-conditionals.vtt\",\"srclang\":\"en\",\"kind\":\"subtitles\",\"label\":\"english\"}])\n### Nested Conditionals\n**if**  \n**&nbsp;&nbsp;&nbsp;&nbsp;if**  \n**&nbsp;&nbsp;&nbsp;&nbsp;&nbsp;&nbsp;&nbsp;&nbsp;if**  \n**&nbsp;&nbsp;&nbsp;&nbsp;&nbsp;&nbsp;&nbsp;&nbsp;else**  \n**&nbsp;&nbsp;&nbsp;&nbsp;else**  \n**else**  \n\n### Making a sandwich\nTaking a sandwich order starts with sandwich choices:\n> **Cheese or Veggie special?**  \nIf the response is **\"Cheese\"** \"nest\" a subquery:  \n>> **Manchego or Cheddar?**  \n  \n  \n|Nested &nbsp;**`if`**&nbsp; statement  flowchart  |\n| ------ | \n| ![Image of sandwich order flowchart](https://iajupyterprodblobs.blob.core.windows.net/imagecontainer/flowchart_sandwich.png)   | \n"
    },
    {
      "metadata": {},
      "cell_type": "markdown",
      "source": "### Examples\n> ***TIP:*** click in input box before typing input "
    },
    {
      "metadata": {},
      "cell_type": "markdown",
      "source": "# simplified example\n# [ ] review the code then run and following the flowchart paths\n\n# ***TIP:*** click in input box before typing\n\nsandwich_type = input('\"c\" for Cheese or \"v\" for Veggie Special: ')\n\nif sandwich_type.lower() == \"c\":\n    # select cheese type\n    cheese_type = input('\"c\" for Cheddar or \"m\" for Manchego: ')\n    \n    if cheese_type.lower() == \"c\":\n        print(\"Here is your Cheddar Cheese sandwich\")\n    else:\n        print(\"Here is your Manchego Cheese sandwich\") \n\nelse:\n    print(\"Here is your Veggie Special\")"
    },
    {
      "metadata": {
        "trusted": false
      },
      "cell_type": "code",
      "source": "# full example: handling some invalid input and elif statement\n# [ ] review the code then run following the flowchart paths including **invalid responses** like \"xyz123\"\n\n# ***TIP:*** click in input box before typing\n\nprint(\"Hi, welcome to the sandwich shop.  Please select a sandwich.\")\nsandwich_type = input('\"c\" for Cheese or \"v\" for Veggie Special: ')\n# select sandwich type sandwich_type = input('\"c\" for Cheese or \"v\" for Veggie Special: ')\nprint()\n    \nif sandwich_type.lower() == \"c\":\n    # select cheese type\n    print(\"Please select a cheese.\")\n    cheese_type = input('\"c\" for Cheddar or \"m\" for Manchego: ')\n    print()\n    \n    if cheese_type.lower() == \"c\":\n        print(\"Here is your Cheddar Cheese sandwich.  Thank you.\")\n    elif cheese_type.lower() == \"m\":\n        print(\"Here is your Manchego Cheese sandwich.  Thank you.\") \n    else:\n        print(\"Sorry, we don't have\", cheese_type, \"choice today.\")\n\nelif sandwich_type.lower() == \"v\":\n    print(\"Here is your Veggie Special. Thank you.\")\n        \nelse:\n    print(\"Sorry, we don't have\", sandwich_type, \"choice today.\")\nprint()\nprint(\"Goodbye!\")\n",
      "execution_count": null,
      "outputs": []
    },
    {
      "metadata": {},
      "cell_type": "markdown",
      "source": "## Task 1: Nested `if` \n### [ ] Program: Say \"Hello\"\n- using nested **`if`**\n  \n|Say \"Hello\" flowchart  |\n| ------ | \n|  ![Image: Say \"Hello\" flowchart](https://iajupyterprodblobs.blob.core.windows.net/imagecontainer/flowchart_say_hello.png) | "
    },
    {
      "metadata": {
        "trusted": true
      },
      "cell_type": "code",
      "source": "# [ ] Say \"Hello\" with nested if\n# [ ] Challenge: handle input other than y/n\n\nstudent_name = input(\"enter name: \").capitalize()\nif student_name.startswith(\"F\"):\n    print(student_name,\"Congratulations, names starting with 'F' get to go first today!\")\nelif student_name.startswith(\"G\")\n    print(student_name,\"Congratulations, names starting with 'G' get to go second today!\")\nelse:\n    print(student_name, \"please wait for students with names staring with 'F' and 'G' to go first today.\")\n",
      "execution_count": 4,
      "outputs": [
        {
          "output_type": "error",
          "ename": "SyntaxError",
          "evalue": "invalid syntax (<ipython-input-4-577bee0710fd>, line 7)",
          "traceback": [
            "\u001b[0;36m  File \u001b[0;32m\"<ipython-input-4-577bee0710fd>\"\u001b[0;36m, line \u001b[0;32m7\u001b[0m\n\u001b[0;31m    elif student_name.startswith(\"G\")\u001b[0m\n\u001b[0m                                     ^\u001b[0m\n\u001b[0;31mSyntaxError\u001b[0m\u001b[0;31m:\u001b[0m invalid syntax\n"
          ]
        }
      ]
    },
    {
      "metadata": {},
      "cell_type": "markdown",
      "source": "## Task 2: Nested `if` - testing for `False`\n### Program:  [ ] 3 Guesses\n- Use nested if statements complete the flowchart code\n- Create a **`birds`** string variable with the names of 1, 2, 3 or more birds to make it easier\n- Get **`bird_guess`** input and use **`bird_guess in bird_names`** to generate Boolean True/False\n- If the the guess is wrong (**`False`**) create a subtest until the user has had 3 guesses\n  \n|3 Guesses (\"Guess the Bird\") flowchart  |\n| ------ | \n| ![Image of Guess the Bird flowchart](https://iajupyterprodblobs.blob.core.windows.net/imagecontainer/flowchart_guess_the_bird.png)   | "
    },
    {
      "metadata": {
        "trusted": true
      },
      "cell_type": "code",
      "source": "# [ ] Create the \"Guess the bird\" program \n\nage= int(input(\"Please enter your age: \"))\nif age<0:\n    print(\"You must enter a  positive number\")\nelse:\n    print(\"In 20 years you will be: \",(age+20))",
      "execution_count": 8,
      "outputs": [
        {
          "output_type": "stream",
          "name": "stdout",
          "text": "Please enter your age: 22\nIn 20 years you will be:  42\n"
        }
      ]
    },
    {
      "metadata": {},
      "cell_type": "markdown",
      "source": "[Terms of use](http://go.microsoft.com/fwlink/?LinkID=206977) &nbsp; [Privacy & cookies](https://go.microsoft.com/fwlink/?LinkId=521839) &nbsp; © 2017 Microsoft"
    }
  ],
  "metadata": {
    "anaconda-cloud": {},
    "kernelspec": {
      "name": "python3",
      "display_name": "Python 3",
      "language": "python"
    },
    "language_info": {
      "mimetype": "text/x-python",
      "nbconvert_exporter": "python",
      "name": "python",
      "file_extension": ".py",
      "version": "3.5.4",
      "pygments_lexer": "ipython3",
      "codemirror_mode": {
        "version": 3,
        "name": "ipython"
      }
    }
  },
  "nbformat": 4,
  "nbformat_minor": 1
}